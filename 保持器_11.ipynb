{
  "nbformat": 4,
  "nbformat_minor": 0,
  "metadata": {
    "colab": {
      "name": "保持器_11.ipynb",
      "provenance": [],
      "collapsed_sections": [],
      "mount_file_id": "1YK-9ocHUtglpEvHRlF4KI0u7pZVtACKh",
      "authorship_tag": "ABX9TyP0bOf6ZpBHJczNFFObS550",
      "include_colab_link": true
    },
    "kernelspec": {
      "name": "python3",
      "display_name": "Python 3"
    },
    "language_info": {
      "name": "python"
    }
  },
  "cells": [
    {
      "cell_type": "markdown",
      "metadata": {
        "id": "view-in-github",
        "colab_type": "text"
      },
      "source": [
        "<a href=\"https://colab.research.google.com/github/Nonna-nna/Nonna-nna/blob/Linear-guide/%E4%BF%9D%E6%8C%81%E5%99%A8_11.ipynb\" target=\"_parent\"><img src=\"https://colab.research.google.com/assets/colab-badge.svg\" alt=\"Open In Colab\"/></a>"
      ]
    },
    {
      "cell_type": "markdown",
      "source": [
        "#目標：完全一致の座標を特定"
      ],
      "metadata": {
        "id": "blOW51Xm3ZD7"
      }
    },
    {
      "cell_type": "markdown",
      "source": [
        "ターゲットが元、テンプレートが探したい対象"
      ],
      "metadata": {
        "id": "Pl-CRoB-8Iep"
      }
    },
    {
      "cell_type": "code",
      "source": [
        "import cv2\n",
        "from google.colab.patches import cv2_imshow\n",
        "\n",
        "# ターゲット画像\n",
        "target = cv2.imread('/content/〇の画像_4.jpg')\n",
        "# テンプレート画像\n",
        "temp = cv2.imread('/content/〇の画像_03.jpg')\n",
        "# テンプレートマッチを実行\n",
        "r = cv2.matchTemplate(target, temp, cv2.TM_CCOEFF_NORMED)\n",
        "#結果から検出領域の位置を取得\n",
        "min_v, max_v, min_l, max_l = cv2.minMaxLoc(r)\n",
        "#左上の座標\n",
        "top_l = max_l\n",
        "print('min_v, max_v, min_l, max_l = ', min_v, max_v, min_l, max_l)\n",
        "bottom_r = (top_l[0] + temp.shape[1], top_l[1] + temp.shape[0])\n",
        "# 検出領域を四角で描画\n",
        "cv2.rectangle(target, top_l, bottom_r, (0, 0, 255), 2)\n",
        "cv2_imshow(target)"
      ],
      "metadata": {
        "colab": {
          "base_uri": "https://localhost:8080/",
          "height": 104
        },
        "id": "ib7biVgg7vQJ",
        "outputId": "627e8409-a95d-43e4-8a07-8aa9944ba581"
      },
      "execution_count": 2,
      "outputs": [
        {
          "output_type": "stream",
          "name": "stdout",
          "text": [
            "min_v, max_v, min_l, max_l =  -0.08215800672769547 0.8096993565559387 (19, 4) (2, 21)\n"
          ]
        },
        {
          "output_type": "display_data",
          "data": {
            "text/plain": [
              "<PIL.Image.Image image mode=RGB size=70x70 at 0x7FEABACB74D0>"
            ],
            "image/png": "[encoded data removed]"
          },
          "metadata": {}
        }
      ]
    },
    {
      "cell_type": "code",
      "source": [
        "import cv2\n",
        "import numpy as np\n",
        "import matplotlib.pyplot as plt\n",
        "\n",
        "#動画ファイルの読み込み\n",
        "movie = cv2.VideoCapture('/content/drive/MyDrive/trim_01.mp4')\n",
        "#フレーム数の取得\n",
        "nframe = int(movie.get(cv2.CAP_PROP_FRAME_COUNT))\n",
        "\n",
        "#左上座標の検出\n",
        "coordinate=[]\n",
        "for i in range(nframe):\n",
        "    #ret, frame = movie.read()\n",
        "    # ターゲット画像\n",
        "    #target = cv2.imread('/content/〇の画像_4.jpg')\n",
        "    ret, target = movie.read()\n",
        "    # テンプレート画像\n",
        "    temp = cv2.imread('/content/消しゴムの一部３.PNG')\n",
        "    # テンプレートマッチを実行\n",
        "    r = cv2.matchTemplate(target, temp, cv2.TM_CCOEFF_NORMED)\n",
        "    #結果から検出領域の位置を取得\n",
        "    min_v, max_v, min_l, max_l = cv2.minMaxLoc(r)\n",
        "    #左上の座標\n",
        "    top_l = max_l\n",
        "    coordinate.append(top_l)\n",
        "    '''\n",
        "    #print('min_v, max_v, min_l, max_l = ', min_v, max_v, min_l, max_l)\n",
        "    bottom_r = (top_l[0] + temp.shape[1], top_l[1] + temp.shape[0])\n",
        "    # 検出領域を四角で描画\n",
        "    cv2.rectangle(target, top_l, bottom_r, (0, 0, 255), 2)\n",
        "    cv2_imshow(target)\n",
        "    '''\n",
        "coordinate=np.array(coordinate)\n",
        "\n",
        "#重心履歴の可視化\n",
        "plt.scatter(coordinate[:,0], coordinate[:,1], color='red', linestyle='solid', linewidth = 2.0, label='moment')\n",
        "plt.xlabel('x',color='black',fontsize=14)\n",
        "plt.ylabel('y',color='black',fontsize=14)\n",
        "plt.savefig('moment.jpg', dpi=300)"
      ],
      "metadata": {
        "colab": {
          "base_uri": "https://localhost:8080/",
          "height": 283
        },
        "id": "yMb5s93sAH5g",
        "outputId": "b79a7eb7-4334-4fe6-be41-214c9c84a2e9"
      },
      "execution_count": 11,
      "outputs": [
        {
          "output_type": "display_data",
          "data": {
            "text/plain": [
              "<Figure size 432x288 with 1 Axes>"
            ],
            "image/png": "[encoded data removed]"
          },
          "metadata": {
            "needs_background": "light"
          }
        }
      ]
    },
    {
      "cell_type": "markdown",
      "source": [
        "openCV-9.4章　動画の顔検出より\n",
        "(detect_object_camera.py)"
      ],
      "metadata": {
        "id": "TiRoCbtLFDHv"
      }
    },
    {
      "cell_type": "code",
      "source": [
        "# -*- coding: utf-8 -*\n",
        "\n",
        "import cv2\n",
        "\n",
        "try:\n",
        "    capture = cv2.VideoCapture(0)    \n",
        "    cascade = cv2.CascadeClassifier(\n",
        "            r'C:\\Users\\prode\\Downloads\\haarcascade_frontalface_alt.xml')\n",
        "    \n",
        "    while(True):\n",
        "        ret, frame = capture.read()\n",
        "        if ret == False:\n",
        "            print('カメラから映像を取得できませんでした.')\n",
        "            break\n",
        "        facerect = cascade.detectMultiScale(frame)\n",
        "        if len(facerect) > 0:\n",
        "            for rect in facerect:\n",
        "                cv2.rectangle(frame, tuple(rect[0:2]),\n",
        "                              tuple(rect[0:2]+rect[2:4]), (0, 0,255), thickness=2)\n",
        "        cv2.imshow('f', frame)\n",
        "        \n",
        "        if cv2.waitKey(1) & 0xFF == ord('q'):\n",
        "            break\n",
        "    \n",
        "    capture.release()\n",
        "    cv2.destroyAllWindows()\n",
        "except:\n",
        "    import sys\n",
        "    print(\"Error:\", sys.exc_info()[0])\n",
        "    print(sys.exc_info()[1])\n",
        "    import traceback\n",
        "    print(traceback.format_tb(sys.exc_info()[2]))"
      ],
      "metadata": {
        "id": "pKukPGYEFCLf"
      },
      "execution_count": null,
      "outputs": []
    }
  ]
}
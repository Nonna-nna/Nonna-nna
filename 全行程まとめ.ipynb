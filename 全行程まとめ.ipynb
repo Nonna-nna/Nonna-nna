{
  "cells": [
    {
      "cell_type": "markdown",
      "metadata": {
        "id": "view-in-github",
        "colab_type": "text"
      },
      "source": [
        "<a href=\"https://colab.research.google.com/github/Nonna-nna/Nonna-nna/blob/Image-processing/%E5%85%A8%E8%A1%8C%E7%A8%8B%E3%81%BE%E3%81%A8%E3%82%81.ipynb\" target=\"_parent\"><img src=\"https://colab.research.google.com/assets/colab-badge.svg\" alt=\"Open In Colab\"/></a>"
      ]
    },
    {
      "cell_type": "markdown",
      "metadata": {
        "id": "g60BDN28y41T"
      },
      "source": [
        "inputファイル数カウント"
      ]
    },
    {
      "cell_type": "code",
      "execution_count": null,
      "metadata": {
        "colab": {
          "base_uri": "https://localhost:8080/"
        },
        "id": "_fXaN0DSsn43",
        "outputId": "eda35a0a-8ba1-4755-d429-d17b35d2fb8e"
      },
      "outputs": [
        {
          "name": "stdout",
          "output_type": "stream",
          "text": [
            "72\n"
          ]
        }
      ],
      "source": [
        "import os\n",
        "\n",
        "'''以下、ファイル数のカウント'''\n",
        "dir = '/content/drive/Shareddrives/西村君の画像/B1/30-1'\n",
        "count_file = 0\n",
        "#ディレクトリの中身分ループ\n",
        "for file_name in os.listdir(dir):\n",
        "  #ファイルもしくはディレクトリのパスを取得\n",
        "  file_path = os.path.join(dir,file_name)\n",
        "  #ファイルであるか判定\n",
        "  if os.path.isfile(file_path):\n",
        "    count_file +=1\n",
        "print(count_file)"
      ]
    },
    {
      "cell_type": "markdown",
      "metadata": {
        "id": "Pnf0Y-gF9yTE"
      },
      "source": [
        "outputファイルの確認"
      ]
    },
    {
      "cell_type": "code",
      "execution_count": null,
      "metadata": {
        "id": "YcFxOQVI9sqN"
      },
      "outputs": [],
      "source": [
        "output_dir = '/content/drive/Shareddrives/西村君の画像/resize'"
      ]
    },
    {
      "cell_type": "markdown",
      "metadata": {
        "id": "-nhMGTn2y1Qa"
      },
      "source": [
        "拡張子の選択"
      ]
    },
    {
      "cell_type": "code",
      "execution_count": null,
      "metadata": {
        "colab": {
          "base_uri": "https://localhost:8080/",
          "height": 36
        },
        "id": "0E-hRFUKyZa6",
        "outputId": "7b48a2e7-037f-475c-b6a9-a5cf5846c239"
      },
      "outputs": [
        {
          "data": {
            "application/vnd.google.colaboratory.intrinsic+json": {
              "type": "string"
            },
            "text/plain": [
              "'\\n#ここにすべての処理を記述\\nfor i in range(len(image_list)):\\n  try_image = cv2.imread(str(image_list[i]))\\n'"
            ]
          },
          "execution_count": 15,
          "metadata": {},
          "output_type": "execute_result"
        }
      ],
      "source": [
        "import pathlib\n",
        "\n",
        "#適用する拡張子\n",
        "image_list = list(pathlib.Path(dir).glob('**/*.JPEG'))\n",
        "\n",
        "white_ratio_list = []\n",
        "\n",
        "'''\n",
        "#ここにすべての処理を記述\n",
        "for i in range(len(image_list)):\n",
        "  try_image = cv2.imread(str(image_list[i]))\n",
        "'''"
      ]
    },
    {
      "cell_type": "markdown",
      "metadata": {
        "id": "IzUeRt0py8BL"
      },
      "source": [
        "一括トリミング"
      ]
    },
    {
      "cell_type": "code",
      "execution_count": null,
      "metadata": {
        "colab": {
          "base_uri": "https://localhost:8080/",
          "height": 1000
        },
        "id": "Ks4efB_MkNX-",
        "outputId": "6716b615-06c5-41f6-9dba-6ec60cd81770"
      },
      "outputs": [],
      "source": [
        "#きさげ/一括トリミング\n",
        "import cv2\n",
        "from google.colab.patches import cv2_imshow\n",
        "\n",
        "print('この方法は推奨しません。')\n",
        "\n",
        "for i in range(len(image_list)):\n",
        "  # 画像読み込み\n",
        "  img = cv2.imread(str(image_list[i]))\n",
        "  print(\"元画像の表示\")\n",
        "  cv2_imshow(img)\n",
        "\n",
        "  # img[top : bottom, left : right]\n",
        "  # サンプル1の切り出し、保存\n",
        "  top = 100\n",
        "  bottom = 900\n",
        "  left = 600\n",
        "  right = 1500\n",
        "\n",
        "  x = right - left\n",
        "  y = bottom - top\n",
        "  resize_size = x * y\n",
        "  print(resize_size)\n",
        "\n",
        "  img1 = img[top : bottom, left: right]\n",
        "  print(\"トリミング画像の表示\")\n",
        "  cv2_imshow(img1)\n",
        "  output_path = output_dir + '/' + image_list[i] + _[i].name\n",
        "  cv2.imwrite(output_path, img1)\n",
        "\n",
        "print('done')"
      ]
    },
    {
      "cell_type": "code",
      "execution_count": null,
      "metadata": {
        "id": "D20jr9Qp70x-"
      },
      "outputs": [],
      "source": [
        "h, w, c = img1.shape\n",
        "print('width:  ', w)\n",
        "print('height: ', h)\n",
        "print('channel:', c)\n",
        "\n",
        "print(type(w))"
      ]
    },
    {
      "cell_type": "markdown",
      "metadata": {
        "id": "3uKJVMqTzBDb"
      },
      "source": [
        "一枚選択してトリミング"
      ]
    },
    {
      "cell_type": "code",
      "execution_count": null,
      "metadata": {
        "colab": {
          "base_uri": "https://localhost:8080/",
          "height": 1000
        },
        "id": "gAV-l1p7lFBO",
        "outputId": "3422bc0c-25aa-4b45-f84f-0f6466553de5"
      },
      "outputs": [],
      "source": [
        "#きさげ/１枚選択\n",
        "import cv2  #OpenCVのインポート\n",
        "import time\n",
        "\n",
        "for i in range(len(image_list)):\n",
        "  img = cv2.imread(str(image_list[i]))\n",
        "  if i == 0:\n",
        "    y_step=100 #高さ方向のグリッド間隔(単位はピクセル)\n",
        "    x_step=100 #幅方向のグリッド間隔(単位はピクセル)\n",
        "\n",
        "    #オブジェクトimgのshapeメソッドの1つ目の戻り値(画像の高さ)をimg_yに、2つ目の戻り値(画像の幅)をimg_xに\n",
        "    img_y,img_x=img.shape[:2]  \n",
        "\n",
        "    #横線を引く：y_stepからimg_yの手前までy_stepおきに白い(BGRすべて255)横線を引く\n",
        "    img[y_step:img_y:y_step, :, :] = 255\n",
        "    #縦線を引く：x_stepからimg_xの手前までx_stepおきに白い(BGRすべて255)縦線を引く\n",
        "    img[:, x_step:img_x:x_step, :] = 255\n",
        "    cv2.imwrite('grid.png',img) #ファイル名'grid.png'でimgを保存\n",
        "    cv2_imshow(img)\n",
        "    time.sleep(10)\n",
        "    print('1マス100pxです。')\n",
        "    time.sleep(5)\n",
        "    top_s = input('上の座標を指定してください')\n",
        "    bottom_s = input('下の座標を指定してください')\n",
        "    left_s = input('左の座標を指定してください')\n",
        "    right_s = input('右の座標を指定してください')\n",
        "\n",
        "    top_i = int(top_s)\n",
        "    bottom_i = int(bottom_s)\n",
        "    left_i = int(left_s)\n",
        "    right_i = int(right_s)\n",
        "\n",
        "    x = right_i - left_i\n",
        "    y = bottom_i - top_i\n",
        "    resize_size = x * y\n",
        "    print(resize_size)\n",
        "\n",
        "    if resize_size == 720000:\n",
        "      print('pass')\n",
        "      img1 = img[top_i : bottom_i, left_i: right_i]\n",
        "      print(\"トリミング画像の表示\")\n",
        "      #cv2.imwrite(\"out_sample1.jpg\", img1)\n",
        "      cv2_imshow(img1)\n",
        "      output_path = output_dir + '/' + image_list[i].name\n",
        "      cv2.imwrite(output_path, img1)\n",
        "    else:\n",
        "      print('もう一度サイズを決めなおしてください')\n",
        "  else:\n",
        "    img1 = img[top_i : bottom_i, left_i: right_i]\n",
        "    print(\"トリミング画像の表示\")\n",
        "    #cv2.imwrite(\"out_sample1.jpg\", img1)\n",
        "    cv2_imshow(img1)\n",
        "    output_path = output_dir + '/' + image_list[i].name\n",
        "    cv2.imwrite(output_path, img1)\n",
        "print('done')"
      ]
    },
    {
      "cell_type": "markdown",
      "metadata": {
        "id": "tqMP6lndzHRH"
      },
      "source": [
        "手作業でトリミング"
      ]
    },
    {
      "cell_type": "code",
      "execution_count": null,
      "metadata": {
        "id": "b5EoTDHm41kH"
      },
      "outputs": [],
      "source": [
        ""
      ]
    },
    {
      "cell_type": "code",
      "execution_count": null,
      "metadata": {
        "id": "EyTxaHnsq_rV"
      },
      "outputs": [],
      "source": [
        "#1枚ずつ選択\n",
        "print('この方法は推奨しません。')\n",
        "\n",
        "for i in range(len(image_list)):\n",
        "  y_step=100 #高さ方向のグリッド間隔(単位はピクセル)\n",
        "  x_step=100 #幅方向のグリッド間隔(単位はピクセル)\n",
        "  img = cv2.imread(str(image_list[i])) #画像を読み出しオブジェクトimgに代入\n",
        "\n",
        "  #オブジェクトimgのshapeメソッドの1つ目の戻り値(画像の高さ)をimg_yに、2つ目の戻り値(画像の幅)をimg_xに\n",
        "  img_y,img_x=img.shape[:2]  \n",
        "\n",
        "  #横線を引く：y_stepからimg_yの手前までy_stepおきに白い(BGRすべて255)横線を引く\n",
        "  img[y_step:img_y:y_step, :, :] = 255\n",
        "  #縦線を引く：x_stepからimg_xの手前までx_stepおきに白い(BGRすべて255)縦線を引く\n",
        "  img[:, x_step:img_x:x_step, :] = 255\n",
        "  cv2_imshow(img)\n",
        "  time.sleep(5)\n",
        "  print('1マス100pxです。')\n",
        "  print('縦横が720000pxになるように指定してください')\n",
        "\n",
        "  time.sleep(3)\n",
        "  top_s = input('上の座標を指定してください')\n",
        "  bottom_s = input('下の座標を指定してください')\n",
        "  left_s = input('左の座標を指定してください')\n",
        "  right_s = input('右の座標を指定してください')\n",
        "\n",
        "  top_i = int(top_s)\n",
        "  bottom_i = int(bottom_s)\n",
        "  left_i = int(left_s)\n",
        "  right_i = int(right_s)\n",
        "\n",
        "  x = right_i - left_i\n",
        "  y = bottom_i - top_i\n",
        "  resize_size = x * y\n",
        "  print(resize_size)\n",
        "\n",
        "  if resize_size == 720000:\n",
        "    print('pass')\n",
        "    img1 = img[top_i : bottom_i, left_i: right_i]\n",
        "    print(\"トリミング画像の表示\")\n",
        "    #cv2.imwrite(\"out_sample1.jpg\", img1)\n",
        "    cv2_imshow(img1)\n",
        "    output_path = output_dir + '/' + image_list[i].name\n",
        "    cv2.imwrite(output_path, img1)\n",
        "\n",
        "  else:\n",
        "    print(i, '枚目はトリミングできませんでした。')\n",
        "    print('後ほど正しく範囲を指定してください。')"
      ]
    },
    {
      "cell_type": "code",
      "execution_count": null,
      "metadata": {
        "id": "U6xnaNT01twZ"
      },
      "outputs": [],
      "source": [
        "output_dir = input('output_dir')\n",
        "output_path = output_dir + '/' + image_list[i].name\n",
        "cv2.imwrite(output_path, img)"
      ]
    },
    {
      "cell_type": "markdown",
      "metadata": {
        "id": "z2YcGF_3Chaz"
      },
      "source": [
        "多孔質材の二値化"
      ]
    },
    {
      "cell_type": "code",
      "execution_count": null,
      "metadata": {
        "id": "nXieux_NCIn1"
      },
      "outputs": [],
      "source": [
        "import os\n",
        "import cv2\n",
        "import pathlib\n",
        "import numpy as np\n",
        "from google.colab.patches import cv2_imshow\n",
        "\n",
        "'''以下、ファイル数のカウント'''\n",
        "dir = '/content/drive/Shareddrives/多孔質材班/リテーナあり/多孔質材１個/120°/100%/2 やり直し/resize'\n",
        "count_file = 0\n",
        "for file_name in os.listdir(dir):\n",
        "  #ファイルもしくはディレクトリのパスを取得\n",
        "  file_path = os.path.join(dir,file_name)\n",
        "  #ファイルであるか判定\n",
        "  if os.path.isfile(file_path):\n",
        "    count_file +=1\n",
        "print(count_file)\n",
        "\n",
        "# 保存するファルダ\n",
        "output_dir = '/content/drive/Shareddrives/西村君の画像/きさげ画像加工後/30-1'\n",
        "\n",
        "#適用する拡張子\n",
        "image_list = list(pathlib.Path(dir).glob('**/*.jpg'))\n",
        "\n",
        "white_ratio_list = []\n",
        "\n",
        "\n",
        "'''ここにすべての処理を記述'''\n",
        "for i in range(len(image_list)):\n",
        "  #前画像の表示\n",
        "  print(\"前画像の表示\")\n",
        "  img = cv2.imread(str(image_list[i]))\n",
        "  cv2_imshow(img)\n",
        "\n",
        "  #GBR範囲指定\n",
        "  lower = np.array([96,128,128], dtype=np.uint8)\n",
        "  upper = np.array([192,224,224], dtype=np.uint8)\n",
        "\n",
        "  #maskとbitwise_andで黄色い部分を抜いてその他を黒に。\n",
        "  maskRed = cv2.inRange(img, lower, upper)     \n",
        "  img_red = cv2.bitwise_and(img,img,  mask= maskRed)\n",
        "\n",
        "  #マスク後の画像を表示\n",
        "  print(\"マスク後の画像を表示\")\n",
        "  cv2_imshow(img_red)\n",
        "\n",
        "  #グレースケールに変更\n",
        "  img_gray = cv2.cvtColor(img_red, cv2.COLOR_BGR2GRAY)\n",
        "  #モノクログレースケール画像を表示\n",
        "  print(\"モノクログレースケール画像を表示\")\n",
        "  cv2_imshow(img_gray)\n",
        "\n",
        "  #二値化\n",
        "  threshold=83\n",
        "  ret, image_binary= cv2.threshold(img_gray, threshold, 255, cv2.THRESH_BINARY)\n",
        "  #結果を表示\n",
        "  print(\"結果を表示\")\n",
        "  cv2_imshow(image_binary)\n",
        "\n",
        "  #白ピクセルのカウント\n",
        "  white = cv2.countNonZero(image_binary)\n",
        "  print('白のピクセル数は', white)\n",
        "\n",
        "  all_pixel = np.size(image_binary)\n",
        "  #all_pixel = np.size(rbg_image)\n",
        "  print('全ピクセル数は', all_pixel)\n",
        "  white_ratio = (white / all_pixel) * 100\n",
        "  print('白のピクセルの割合は', white_ratio, '%')\n",
        "\n",
        "  '''以下、配列に入れる'''\n",
        "  white_ratio_list.append(white_ratio)\n",
        "\n",
        "  '''以下、保存'''\n",
        "  output_path = output_dir + '/' + image_list[i].name\n",
        "  cv2.imwrite(output_path, image_binary)\n",
        "\n",
        "print(white_ratio_list)\n"
      ]
    },
    {
      "cell_type": "markdown",
      "metadata": {
        "id": "ER0DXEYyCwBj"
      },
      "source": [
        "きさげの二値化"
      ]
    },
    {
      "cell_type": "code",
      "execution_count": null,
      "metadata": {
        "colab": {
          "background_save": true,
          "base_uri": "https://localhost:8080/",
          "height": 1000
        },
        "id": "VM5DKepyCoUd",
        "outputId": "d28d705c-bc4e-4872-89c6-eef9ad8a9987"
      },
      "outputs": [],
      "source": [
        "# https://rikoubou.hatenablog.com/entry/2019/02/21/190310\n",
        "\n",
        "import cv2\n",
        "import numpy as np\n",
        "from google.colab.patches import cv2_imshow\n",
        "\n",
        "white_ratio_list = []\n",
        "dir = '/content/drive/Shareddrives/西村君の画像/resize'\n",
        "output_dir = '/content/drive/Shareddrives/西村君の画像/recolor'\n",
        "image_list = list(pathlib.Path(dir).glob('**/*.JPEG'))\n",
        "\n",
        "'''ここにすべての処理を記述'''\n",
        "for i in range(len(image_list)):\n",
        "  # ファイル読み込み\n",
        "  try_image = cv2.imread(str(image_list[i]))\n",
        "  #マスク前の画像を表示\n",
        "  print(\"マスク前の画像を表示\")\n",
        "  cv2_imshow(try_image)\n",
        "\n",
        "  '''以下、モノクロクレースケール化'''\n",
        "  img_gray = cv2.cvtColor(try_image, cv2.COLOR_BGR2GRAY)\n",
        "  #モノクログレースケール画像を表示\n",
        "  print(\"モノクログレースケール画像を表示\")\n",
        "  cv2_imshow(img_gray)\n",
        "\n",
        "  '''以下、元画像とマスクを合成'''\n",
        "\n",
        "  # 抽出する色の下限(BGR)\n",
        "  bgrLower = np.array([70])\n",
        "  # 抽出する色の上限(BGR)\n",
        "  bgrUpper = np.array([255])\n",
        "  img_mask = cv2.inRange(img_gray, bgrLower, bgrUpper)\n",
        "  mask_image = cv2.bitwise_and(img_gray, img_gray, mask=img_mask)\n",
        "  #マスク後の画像を表示\n",
        "  print(\"マスク後の画像を表示\")\n",
        "  cv2_imshow(mask_image)\n",
        "\n",
        "\n",
        "  '''以下、モノクロ二値化にする'''\n",
        "  #閾値を決める\n",
        "  threshold=83\n",
        "  #オブジェクトmask_imageを閾値threshold(127)で二値化しimg_binaryに代入\n",
        "  ret, image_binary= cv2.threshold(mask_image, threshold, 255, cv2.THRESH_BINARY)\n",
        "  #結果を表示\n",
        "  print(\"結果を表示\")\n",
        "  cv2_imshow(image_binary)\n",
        "\n",
        "  '''以下保存'''\n",
        "  output_path = output_dir + '/' + image_list[i].name\n",
        "  cv2.imwrite(output_path, image_binary)\n",
        "\n",
        "  '''以下、白ピクセルの割合を数える'''\n",
        "  #rbg_image = cv2.cvtColor(image_binary, cv2.COLOR_RGB2BGR)\n",
        "  #rbg_image = cv2.cvtColor(image_binary)\n",
        "  white = cv2.countNonZero(image_binary)\n",
        "  print('白のピクセル数は', white)\n",
        "\n",
        "  all_pixel = np.size(image_binary)\n",
        "  #all_pixel = np.size(rbg_image)\n",
        "  print('全ピクセル数は', all_pixel)\n",
        "  white_ratio = (white / all_pixel) * 100\n",
        "  print('白のピクセルの割合は', white_ratio, '%')\n",
        "\n",
        "  '''以下、配列に入れる'''\n",
        "  white_ratio_list = []\n",
        "  white_ratio_list.append(white_ratio)\n",
        "  print(white_ratio_list)"
      ]
    }
  ],
  "metadata": {
    "accelerator": "GPU",
    "colab": {
      "collapsed_sections": [],
      "name": "全行程まとめ.ipynb",
      "provenance": [],
      "mount_file_id": "1d4Vzr4yW_s8Nw8wjqhzuojI40sL9Ssr_",
      "authorship_tag": "ABX9TyPwpvAFcDVVcP5Y+sqJb9cO",
      "include_colab_link": true
    },
    "gpuClass": "standard",
    "kernelspec": {
      "display_name": "Python 3",
      "name": "python3"
    },
    "language_info": {
      "name": "python"
    }
  },
  "nbformat": 4,
  "nbformat_minor": 0
}
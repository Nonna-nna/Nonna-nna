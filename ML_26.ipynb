{
  "nbformat": 4,
  "nbformat_minor": 0,
  "metadata": {
    "colab": {
      "name": "ML_26.ipynb",
      "provenance": [],
      "collapsed_sections": [],
      "authorship_tag": "ABX9TyObxG0/rhGMKAfVJHPRqiJ5",
      "include_colab_link": true
    },
    "kernelspec": {
      "name": "python3",
      "display_name": "Python 3"
    },
    "language_info": {
      "name": "python"
    }
  },
  "cells": [
    {
      "cell_type": "markdown",
      "metadata": {
        "id": "view-in-github",
        "colab_type": "text"
      },
      "source": [
        "<a href=\"https://colab.research.google.com/github/Nonna-nna/Nonna-nna/blob/Machine-learning/ML_26.ipynb\" target=\"_parent\"><img src=\"https://colab.research.google.com/assets/colab-badge.svg\" alt=\"Open In Colab\"/></a>"
      ]
    },
    {
      "cell_type": "code",
      "execution_count": 1,
      "metadata": {
        "colab": {
          "base_uri": "https://localhost:8080/",
          "height": 1000
        },
        "id": "O3_U8jqA88SY",
        "outputId": "164c959b-1042-4d79-a386-7720c1d188b4"
      },
      "outputs": [
        {
          "output_type": "stream",
          "name": "stdout",
          "text": [
            "torch.Size([5])\n",
            "184.87682\n",
            "38.439518\n",
            "20.898064\n",
            "19.135178\n",
            "17.316277\n",
            "15.384674\n",
            "13.650408\n",
            "12.363505\n",
            "11.618711\n",
            "11.315479\n",
            "11.22841\n",
            "11.186518\n",
            "11.150152\n",
            "11.1251545\n",
            "11.114335\n",
            "11.112053\n",
            "11.1119\n",
            "11.1119\n",
            "11.111899\n",
            "11.111898\n",
            "11.111898\n",
            "11.111898\n",
            "11.111898\n",
            "11.111898\n",
            "11.111898\n",
            "11.111899\n",
            "11.111899\n",
            "11.111898\n",
            "11.111898\n",
            "11.111898\n",
            "11.111898\n",
            "173.28494\n",
            "38.73544\n",
            "21.09476\n",
            "19.136166\n",
            "17.196945\n",
            "15.2012615\n",
            "13.48408\n",
            "12.285977\n",
            "11.654998\n",
            "11.43169\n",
            "11.3708\n",
            "11.332986\n",
            "11.299035\n",
            "11.276262\n",
            "11.266782\n",
            "11.264903\n",
            "11.26479\n",
            "11.26479\n",
            "11.26479\n",
            "11.264789\n",
            "11.264789\n",
            "11.264789\n",
            "11.264789\n",
            "11.26479\n",
            "11.26479\n",
            "11.264789\n",
            "11.26479\n",
            "11.264789\n",
            "11.264789\n",
            "11.264789\n",
            "11.264791\n"
          ]
        },
        {
          "output_type": "display_data",
          "data": {
            "text/plain": [
              "<Figure size 432x288 with 1 Axes>"
            ],
            "image/png": "[encoded data removed]"
          },
          "metadata": {
            "needs_background": "light"
          }
        }
      ],
      "source": [
        "import numpy as np\n",
        "import matplotlib.pyplot as plt\n",
        "import torch\n",
        "import torch.distributions as torchdist\n",
        "\n",
        "normal_dist = torchdist.Normal(loc=torch.tensor(0.), scale=torch.tensor(1.))\n",
        "X = normal_dist.sample([10])\n",
        "X = normal_dist.sample([10, 5])\n",
        "sample = normal_dist.sample()\n",
        "log_likelihood = normal_dist.log_prob(sample)\n",
        "samples = normal_dist.sample([5])\n",
        "log_likelihood = normal_dist.log_prob(samples)\n",
        "\n",
        "print(log_likelihood.shape) # -> (5,)\n",
        "\n",
        "#推定したい関数\n",
        "def toy_poly():\n",
        "    x = 5 * torch.rand(100, 1) \n",
        "    linear_op = -3 - 4*x + 1*x**2 \n",
        "    y = torchdist.Normal(linear_op, 1).sample()\n",
        "    return x, y\n",
        "x_train, y_train = toy_poly()\n",
        "plt.plot(x_train.numpy(), y_train.numpy(), \"o\")\n",
        "\n",
        "#目的関数\n",
        "def log_joint_prob(w0, w1, w2, x, y):\n",
        "    prior_w0 = torchdist.Normal(torch.tensor(0.), 10*torch.tensor(1.))\n",
        "    prior_w1 = torchdist.Normal(torch.tensor(0.), 10*torch.tensor(1.))\n",
        "    prior_w2 = torchdist.Normal(torch.tensor(0.), 10*torch.tensor(1.))\n",
        "    linear = w0 + w1*x + w2*x**2\n",
        "    likelihood = torchdist.Normal(linear, torch.ones_like(linear))\n",
        "    return (\n",
        "        prior_w0.log_prob(w0) +\n",
        "        prior_w1.log_prob(w1) +\n",
        "        prior_w2.log_prob(w2) +\n",
        "        likelihood.log_prob(y).mean()\n",
        "    )\n",
        "\n",
        "#推定したいパラメーターの宣言\n",
        "w0 = torch.nn.Parameter(torch.tensor(1.))\n",
        "w1 = torch.nn.Parameter(torch.tensor(1.))\n",
        "w2 = torch.nn.Parameter(torch.tensor(1.))\n",
        "\n",
        "#自動微分の機能を使う\n",
        "optimizer = torch.optim.Adam(params=[w0, w1, w2], lr=1e-3)\n",
        "for i in range(30000):\n",
        "    optimizer.zero_grad()\n",
        "    log_joint_prob_value = log_joint_prob(w0, w1, w2, x_train, y_train)\n",
        "    loss_value = - log_joint_prob_value\n",
        "    loss_value.backward()\n",
        "    optimizer.step()\n",
        "    if (i+1) % 1000 == 0 or (i==0):\n",
        "        print(loss_value.detach().numpy())\n",
        "\n",
        "def toy_poly():\n",
        "    x = 5 * torch.rand(100, 1) \n",
        "    linear_op = -3 - 4*x + 1*x**2 \n",
        "    y = torchdist.Normal(linear_op, 1).sample()\n",
        "    return x, y\n",
        "x_train, y_train = toy_poly()\n",
        "\n",
        "class MapRegression(torch.nn.Module):\n",
        "    def __init__(self):\n",
        "        super(MapRegression, self).__init__()\n",
        "        \n",
        "        self.prior_w0 = torchdist.Normal(torch.tensor(0.), 10*torch.tensor(1.))\n",
        "        self.prior_w1 = torchdist.Normal(torch.tensor(0.), 10*torch.tensor(1.))\n",
        "        self.prior_w2 = torchdist.Normal(torch.tensor(0.), 10*torch.tensor(1.))\n",
        "        \n",
        "        self.w0 = torch.nn.Parameter(torch.tensor(1.))\n",
        "        self.w1 = torch.nn.Parameter(torch.tensor(1.))\n",
        "        self.w2 = torch.nn.Parameter(torch.tensor(1.))\n",
        "        \n",
        "    def forward(self, x):\n",
        "        return self.w0 + self.w1*x + self.w2*x**2\n",
        "    \n",
        "    def log_joint_prob(self, x, y):\n",
        "        linear = self.forward(x)\n",
        "        likelihood = torchdist.Normal(linear, torch.ones_like(linear))\n",
        "        return (\n",
        "            self.prior_w0.log_prob(self.w0) +\n",
        "            self.prior_w1.log_prob(self.w1) +\n",
        "            self.prior_w2.log_prob(self.w2) +\n",
        "            likelihood.log_prob(y).mean()        \n",
        "        )\n",
        "        \n",
        "model = MapRegression()\n",
        "optimizer = torch.optim.Adam(params=model.parameters(), lr=1e-3)\n",
        "\n",
        "for i in range(30000):\n",
        "    optimizer.zero_grad()\n",
        "    log_joint_prob_value = model.log_joint_prob(x_train, y_train)\n",
        "    loss_value = - log_joint_prob_value\n",
        "    loss_value.backward()\n",
        "    optimizer.step()\n",
        "    \n",
        "    if (i+1) % 1000 == 0 or (i==0):\n",
        "        print(loss_value.detach().numpy())"
      ]
    },
    {
      "cell_type": "code",
      "source": [
        "#from decimal import Decimal\n",
        "\n",
        "print(\"w0 = \", w0, \"w1 = \", w1, \"w2 = \", w2)\n",
        "print(\"w0 = \", int(w0), \"w1 = \", int(w1), \"w2 = \", int(w2))\n",
        "#print(\"w0 = \", Decimal(w0), \"w1 = \", Decimal(w1), \"w2 = \", Decimal(w2))\n",
        "print(\"w0 = \", float(w0), \"w1 = \", float(w1), \"w2 = \", float(w2))"
      ],
      "metadata": {
        "colab": {
          "base_uri": "https://localhost:8080/"
        },
        "id": "WDIjL3vM-WhM",
        "outputId": "c661d37b-f53b-4c1a-8dfc-61dfff4307b9"
      },
      "execution_count": 6,
      "outputs": [
        {
          "output_type": "stream",
          "name": "stdout",
          "text": [
            "w0 =  Parameter containing:\n",
            "tensor(-2.9973, requires_grad=True) w1 =  Parameter containing:\n",
            "tensor(-4.1206, requires_grad=True) w2 =  Parameter containing:\n",
            "tensor(1.0447, requires_grad=True)\n",
            "w0 =  -2 w1 =  -4 w2 =  1\n",
            "w0 =  -2.9973013401031494 w1 =  -4.120550155639648 w2 =  1.0446594953536987\n"
          ]
        }
      ]
    },
    {
      "cell_type": "code",
      "source": [
        "float_w0 = float(w0)\n",
        "float_w1 = float(w1)\n",
        "float_w2 = float(w2)\n",
        "\n",
        "p = np.linspace( 0, 5, 70)   # linspace(min, max, N) で範囲 min から max を N 分割します\n",
        "#q = p**5+p**4-10*p**3+2*p-8\n",
        "#q = w0 + w1*p + w2*p**2\n",
        "q = float_w0 + float_w1 * p + float_w2 * p * p\n",
        "plt.plot(p, q)\n",
        "plt.show()"
      ],
      "metadata": {
        "colab": {
          "base_uri": "https://localhost:8080/",
          "height": 265
        },
        "id": "WGo-MIE3_PBH",
        "outputId": "8b36a8a6-a2af-4117-8f9b-d94a59b062de"
      },
      "execution_count": 9,
      "outputs": [
        {
          "output_type": "display_data",
          "data": {
            "text/plain": [
              "<Figure size 432x288 with 1 Axes>"
            ],
            "image/png": "[encoded data removed]"
          },
          "metadata": {
            "needs_background": "light"
          }
        }
      ]
    }
  ]
}
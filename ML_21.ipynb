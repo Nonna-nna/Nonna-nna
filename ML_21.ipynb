{
  "nbformat": 4,
  "nbformat_minor": 0,
  "metadata": {
    "colab": {
      "name": "ML_21.ipynb",
      "provenance": [],
      "collapsed_sections": [
        "33j-mnTrTM4h"
      ],
      "authorship_tag": "ABX9TyNEM54Aq2DR6IETWeB5Qeey",
      "include_colab_link": true
    },
    "kernelspec": {
      "name": "python3",
      "display_name": "Python 3"
    },
    "language_info": {
      "name": "python"
    }
  },
  "cells": [
    {
      "cell_type": "markdown",
      "metadata": {
        "id": "view-in-github",
        "colab_type": "text"
      },
      "source": [
        "<a href=\"https://colab.research.google.com/github/Nonna-nna/Nonna-nna/blob/Machine-learning/ML_21.ipynb\" target=\"_parent\"><img src=\"https://colab.research.google.com/assets/colab-badge.svg\" alt=\"Open In Colab\"/></a>"
      ]
    },
    {
      "cell_type": "markdown",
      "source": [
        "#参考ソース"
      ],
      "metadata": {
        "id": "8_tA7tRNZ0Vy"
      }
    },
    {
      "cell_type": "markdown",
      "source": [
        "https://www.hellocybernetics.tech/entry/2018/06/27/211621#%E3%81%AF%E3%81%98%E3%82%81%E3%81%AB"
      ],
      "metadata": {
        "id": "O2BaDWtYZ3OZ"
      }
    },
    {
      "cell_type": "markdown",
      "source": [
        "#各種インポート"
      ],
      "metadata": {
        "id": "ovO8ZpEVVhFA"
      }
    },
    {
      "cell_type": "code",
      "source": [
        "tf.executing_eagerly()"
      ],
      "metadata": {
        "colab": {
          "base_uri": "https://localhost:8080/"
        },
        "id": "w8CkHvGKRhfA",
        "outputId": "61f6c9da-c6d3-4c83-9503-4855f5ba0f74"
      },
      "execution_count": 18,
      "outputs": [
        {
          "output_type": "execute_result",
          "data": {
            "text/plain": [
              "True"
            ]
          },
          "metadata": {},
          "execution_count": 18
        }
      ]
    },
    {
      "cell_type": "code",
      "execution_count": 19,
      "metadata": {
        "id": "9Iq5uALYQ7Uy"
      },
      "outputs": [],
      "source": [
        "import numpy as np\n",
        "import tensorflow as tf\n",
        "#import tensorflow.contrib.eager as tfe\n",
        "import matplotlib.pyplot as plt\n",
        "import seaborn as sns\n",
        "#tf.enable_eager_execution()"
      ]
    },
    {
      "cell_type": "markdown",
      "source": [
        "#問題設定"
      ],
      "metadata": {
        "id": "33j-mnTrTM4h"
      }
    },
    {
      "cell_type": "markdown",
      "source": [
        "y=x3+2x2−4x−1+2ϵ の関係があるのだが、yを観測するときに平均0分散1のガウスノイズϵが乗って更にノイズが２倍になってしまっているようなケースを想定していることになります。"
      ],
      "metadata": {
        "id": "isCRZBVXTOm4"
      }
    },
    {
      "cell_type": "code",
      "source": [
        "def toy_polynomial_data():\n",
        "  x = np.linspace(-3, 3, 50)\n",
        "  y = x**3 + 2*x**2 - 4*x + 2*np.random.randn(50) - 1\n",
        "  return x, y\n",
        "\n",
        "x, y = toy_polynomial_data()\n",
        "plt.scatter(x, y)\n",
        "plt.show()"
      ],
      "metadata": {
        "colab": {
          "base_uri": "https://localhost:8080/",
          "height": 269
        },
        "id": "J4rxrMJTRP5w",
        "outputId": "3e95c405-e9c4-416b-ce6f-8d9888810e9e"
      },
      "execution_count": 20,
      "outputs": [
        {
          "output_type": "display_data",
          "data": {
            "text/plain": [
              "<Figure size 432x288 with 1 Axes>"
            ],
            "image/png": "[encoded data removed]"
          },
          "metadata": {
            "needs_background": "light"
          }
        }
      ]
    },
    {
      "cell_type": "markdown",
      "source": [
        "#モデルの設計と損失関数"
      ],
      "metadata": {
        "id": "WhvzHyhpTWXw"
      }
    },
    {
      "cell_type": "markdown",
      "source": [
        "基本的に、tf.keras.Modelクラスを継承して使うことになります。 実際には今回の問題はかなり原始的な話題なので、このクラスを使わなくてもいいのですが、 基本的な雛形はこのような形式になるのではないかと思われるので、慣習に習っておきます。\n",
        "\n",
        "\n",
        "\n"
      ],
      "metadata": {
        "id": "bmt0VpGLTX1n"
      }
    },
    {
      "cell_type": "markdown",
      "source": [
        "まず、def __init__(self)には今回のモデルで用いるパラメータ（やニューラルネットワークの層）を準備しておきます。今回必要はa1x1+a2x2+a3x3+bを表すために a1,a2,a3,b 4つのパラメータを準備しておきます。tf.contrib.eager.Variable()を利用し、初期値initial_valueを適当に設定しておきます（乱数を使ってもいいですが、今回は敢えて、答えの数値と明らかに違う数値にしておきます）。"
      ],
      "metadata": {
        "id": "LXdAR6_TUSkw"
      }
    },
    {
      "cell_type": "markdown",
      "source": [
        "次に、call()メソッドは、モデルの実際の計算を書き下します。今回はa1x1+a2x2+a3x3+bを計算するようにしておくだけなので簡単です。"
      ],
      "metadata": {
        "id": "x_CIh19YTnfA"
      }
    },
    {
      "cell_type": "markdown",
      "source": [
        "パラメータの更新は、微分を計算して、現在の値から引くという操作でしたね。これを実行するには勾配（微分）の計算が必要になります。TensorFlowなどの深層学習フレームワークには、指定したパラメータによる微分を自動で計算してくれる仕組みが備わっています。その理論的な背景は「バックプロパゲーション」と呼ばれています。"
      ],
      "metadata": {
        "id": "2wkMSUm5U39K"
      }
    },
    {
      "cell_type": "code",
      "source": [
        "class Model(tf.keras.Model):\n",
        "\n",
        "  #今回のモデルで用いるパラメータ（やニューラルネットワークの層）を準備しておきます。\n",
        "  def __init__(self):\n",
        "    super(Model, self).__init__()\n",
        "    '''\n",
        "    self.a1 = tf.contrib.eager.Variable(dtype=tf.float32,\n",
        "                                       initial_value=1)\n",
        "    self.a2 = tf.contrib.eager.Variable(dtype=tf.float32,\n",
        "                                       initial_value=-1)\n",
        "    self.a3 = tf.contrib.eager.Variable(dtype=tf.float32,\n",
        "                                       initial_value=1)\n",
        "    self.b = tf.contrib.eager.Variable(dtype=tf.float32,\n",
        "                                       initial_value=2)\n",
        "                                       '''\n",
        "    self.a1 = tf.Variable(dtype=tf.float32,\n",
        "                                       initial_value=1)\n",
        "    self.a2 = tf.Variable(dtype=tf.float32,\n",
        "                                       initial_value=-1)\n",
        "    self.a3 = tf.Variable(dtype=tf.float32,\n",
        "                                       initial_value=1)\n",
        "    self.b = tf.Variable(dtype=tf.float32,\n",
        "                                       initial_value=2)\n",
        "    \n",
        "  #モデルの実際の計算を書き下します。\n",
        "  def call(self, x):\n",
        "    return self.b + self.a1*x + self.a2*x**2 + self.a3*x**3\n",
        "  \n",
        "  #損失関数\n",
        "  def loss_fn(self, x, y):\n",
        "    y_pre = self(x)\n",
        "    mse = 0.5 * (y - y_pre) ** 2 \n",
        "    return tf.reduce_sum(mse)\n",
        "  \n",
        "  #勾配の計算\n",
        "  def grads_fn(self, x, y):\n",
        "    with tf.GradientTape() as tape:\n",
        "      loss = self.loss_fn(x, y)\n",
        "      return tape.gradient(loss, [self.a1,\n",
        "                                  self.a2,\n",
        "                                  self.a3,\n",
        "                                  self.b])\n",
        "  #パラメータの更新\n",
        "  def update(self, x, y, lr=0.001):\n",
        "    grads = self.grads_fn(x, y)\n",
        "    ## variable.assign_sub(value)\n",
        "    ## variable -= value\n",
        "    self.a1.assign_sub(lr * grads[0])\n",
        "    self.a2.assign_sub(lr * grads[1])\n",
        "    self.a3.assign_sub(lr * grads[2])\n",
        "    self.b.assign_sub(lr * grads[3])"
      ],
      "metadata": {
        "id": "HGkyLL1TRbcY"
      },
      "execution_count": 21,
      "outputs": []
    },
    {
      "cell_type": "markdown",
      "source": [
        "#初期状態のモデルで実験"
      ],
      "metadata": {
        "id": "PnCZd0_oVpKg"
      }
    },
    {
      "cell_type": "markdown",
      "source": [
        "早速作ったモデルをmodel=Model()でインスタンス化して、実験してみましょう。 まずは学習を全く行わずにデータをぶち込んでみます。"
      ],
      "metadata": {
        "id": "Vb22BF6IVsR4"
      }
    },
    {
      "cell_type": "code",
      "source": [
        "model = Model()\n",
        "y_init = model(x)\n",
        "\n",
        "plt.scatter(x, y)\n",
        "plt.plot(x, y_init, c='r')\n",
        "plt.show()"
      ],
      "metadata": {
        "colab": {
          "base_uri": "https://localhost:8080/",
          "height": 265
        },
        "id": "kt7jZWGSVdu3",
        "outputId": "6de31095-fdbd-4405-8656-dc3e5dd205b3"
      },
      "execution_count": 25,
      "outputs": [
        {
          "output_type": "display_data",
          "data": {
            "text/plain": [
              "<Figure size 432x288 with 1 Axes>"
            ],
            "image/png": "[encoded data removed]"
          },
          "metadata": {
            "needs_background": "light"
          }
        }
      ]
    },
    {
      "cell_type": "markdown",
      "source": [
        "#学習後のモデル"
      ],
      "metadata": {
        "id": "nvIF4rxYV_dX"
      }
    },
    {
      "cell_type": "markdown",
      "source": [
        "400回ほどパラメータの更新を行ってみましょう。 損失の変化を記録するためにloss=[]と、モデルの予測の記録を取るためにreg=[]を準備しておきます。\n",
        "\n",
        "あとはfor文の中でmodel.update(x, y)により学習を進めます。(y_pre=model(x)は予測の記録を取るためだけのコードです)"
      ],
      "metadata": {
        "id": "omnstvyUWDvA"
      }
    },
    {
      "cell_type": "code",
      "source": [
        "reg = []\n",
        "loss = []\n",
        "for _ in range(400):\n",
        "    y_pre = model(x)\n",
        "    reg.append((x, y_pre))\n",
        "    model.update(x, y, 2e-4)\n",
        "    loss.append(model.loss_fn(x, y))"
      ],
      "metadata": {
        "id": "TfffCzOjV_7g"
      },
      "execution_count": 26,
      "outputs": []
    },
    {
      "cell_type": "code",
      "source": [
        "model = Model()\n",
        "y_init = model(x)\n",
        "\n",
        "plt.scatter(x, y)\n",
        "plt.plot(x, y_init, c='r')\n",
        "plt.plot(x, y_pre, c='g')\n",
        "plt.show()"
      ],
      "metadata": {
        "colab": {
          "base_uri": "https://localhost:8080/",
          "height": 265
        },
        "id": "NHZPcUikZGcB",
        "outputId": "900f7794-58cc-490a-c81e-1ef55923287e"
      },
      "execution_count": 28,
      "outputs": [
        {
          "output_type": "display_data",
          "data": {
            "text/plain": [
              "<Figure size 432x288 with 1 Axes>"
            ],
            "image/png": "[encoded data removed]"
          },
          "metadata": {
            "needs_background": "light"
          }
        }
      ]
    },
    {
      "cell_type": "markdown",
      "source": [
        "#本当に学習は上手く行ったのか"
      ],
      "metadata": {
        "id": "NngYFwX1WUHZ"
      }
    },
    {
      "cell_type": "markdown",
      "source": [
        "損失の変化に関しては以下のようになっており、ほとんど収束しているように見えます。\n",
        "\n",
        "しかし、これだけでは学習が上手く行ったのかは本当はわかりません。 同様のデータをもう１セット準備しておいて、テストをする必要があります。 今回の手法は、手持ちのデータに対して損失関数を最小化するに過ぎません。"
      ],
      "metadata": {
        "id": "nGvcT0WaWVso"
      }
    },
    {
      "cell_type": "code",
      "source": [
        "plt.plot(range(400), loss)\n",
        "plt.show()"
      ],
      "metadata": {
        "colab": {
          "base_uri": "https://localhost:8080/",
          "height": 265
        },
        "id": "fkxwBvx5Wc0Q",
        "outputId": "e37b0494-fa40-4a94-ce6e-fd90286f8796"
      },
      "execution_count": 24,
      "outputs": [
        {
          "output_type": "display_data",
          "data": {
            "text/plain": [
              "<Figure size 432x288 with 1 Axes>"
            ],
            "image/png": "[encoded data removed]"
          },
          "metadata": {
            "needs_background": "light"
          }
        }
      ]
    },
    {
      "cell_type": "markdown",
      "source": [
        "#課題"
      ],
      "metadata": {
        "id": "xNgOJfLMdphT"
      }
    },
    {
      "cell_type": "markdown",
      "source": [
        "検証用データがない\n",
        "\n",
        "推定でどんな多項式が導かれたのかわからない"
      ],
      "metadata": {
        "id": "JyS1UcWBdrza"
      }
    }
  ]
}
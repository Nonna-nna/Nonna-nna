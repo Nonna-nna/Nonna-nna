{
  "nbformat": 4,
  "nbformat_minor": 0,
  "metadata": {
    "colab": {
      "name": "1_front.ipynb",
      "provenance": [],
      "mount_file_id": "1YNwQaX6l8AQ3w3zMQZsoqwdfirP4sVKn",
      "authorship_tag": "ABX9TyMkeaIMdRgoVmVrI70PbPeF",
      "include_colab_link": true
    },
    "kernelspec": {
      "name": "python3",
      "display_name": "Python 3"
    },
    "language_info": {
      "name": "python"
    }
  },
  "cells": [
    {
      "cell_type": "markdown",
      "metadata": {
        "id": "view-in-github",
        "colab_type": "text"
      },
      "source": [
        "<a href=\"https://colab.research.google.com/github/Nonna-nna/Nonna-nna/blob/Image-processing/1_front.ipynb\" target=\"_parent\"><img src=\"https://colab.research.google.com/assets/colab-badge.svg\" alt=\"Open In Colab\"/></a>"
      ]
    },
    {
      "cell_type": "code",
      "execution_count": null,
      "metadata": {
        "id": "Drwe2GMIw64y"
      },
      "outputs": [],
      "source": [
        "print(\"半角数字で入力してください\")\n",
        "print(\"研究テーマは何ですか?\")\n",
        "\n",
        "#テーマの選択\n",
        "print(\"きさげの場合は1を、多孔質材の場合は2を入力してください\")\n",
        "them = input(\"Enter number?\")\n",
        "\n",
        "#トリミングの自動機能選択\n",
        "print(\"トリミングは自動で行いますか？\")\n",
        "print(\"一括処理の場合は1を、１枚だけ位置を決めてから一括処理する場合は2を、全て手作業で処理する場合は3を入力してください\")\n",
        "trim = input(\"Enter number?\")\n",
        "\n",
        "#入力ファイルの確認\n",
        "print(\"どのフォルダを処理しますか？パスを入力してください\")\n",
        "print(\"例：\", \"/content/IMG_9758.JPEG\")\n",
        "input_dir = input(\"Enter path?\")\n",
        "\n",
        "#出力ファイルの確認\n",
        "print(\"保存先を指定してください\")\n",
        "output_dir = input(\"Enter path?\")\n",
        "\n",
        "print(\"設定を完了しました。処理完了までしばらくお待ちください。\")\n",
        "print(\"Now loading...\")"
      ]
    },
    {
      "cell_type": "markdown",
      "source": [
        "今後実装する機能\n",
        "\n",
        "\n",
        "*   プレビュー表示機能\n",
        "*   class\n",
        "\n"
      ],
      "metadata": {
        "id": "dE6JsM7U0iSQ"
      }
    }
  ]
}